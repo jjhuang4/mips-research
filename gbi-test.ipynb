{
 "cells": [
  {
   "cell_type": "code",
   "execution_count": null,
   "metadata": {},
   "outputs": [
    {
     "ename": "",
     "evalue": "",
     "output_type": "error",
     "traceback": [
      "\u001b[1;31mRunning cells with 'gurobi_env (Python 3.10.11)' requires the ipykernel package.\n",
      "\u001b[1;31mRun the following command to install 'ipykernel' into the Python environment. \n",
      "\u001b[1;31mCommand: 'c:/Users/jrh25/Desktop/ures/gurobi_env/bin/python3.10.exe -m pip install ipykernel -U --force-reinstall'"
     ]
    }
   ],
   "source": [
    "import gurobipy as gp # necessary imports for gurobi\n",
    "from gurobipy import GRB\n",
    "import numpy as np # necessary imports for matrix interface\n",
    "import scipy.sparse as sp\t"
   ]
  },
  {
   "cell_type": "markdown",
   "metadata": {},
   "source": [
    "Following this tutorial:\n",
    "\n",
    "https://support.gurobi.com/hc/en-us/articles/17278438215313-Tutorial-Getting-Started-with-the-Gurobi-Python-API"
   ]
  },
  {
   "cell_type": "code",
   "execution_count": 11,
   "metadata": {},
   "outputs": [],
   "source": [
    "m = gp.Model(\"mip1\")"
   ]
  },
  {
   "cell_type": "code",
   "execution_count": 12,
   "metadata": {},
   "outputs": [],
   "source": [
    "# Create variables\n",
    "x = m.addVar(vtype=GRB.BINARY, name=\"x\")\n",
    "y = m.addVar(vtype=GRB.BINARY, name=\"y\")\n",
    "z = m.addVar(vtype=GRB.BINARY, name=\"z\")"
   ]
  },
  {
   "cell_type": "code",
   "execution_count": 13,
   "metadata": {},
   "outputs": [
    {
     "data": {
      "text/plain": [
       "<gurobi.Constr *Awaiting Model Update*>"
      ]
     },
     "execution_count": 13,
     "metadata": {},
     "output_type": "execute_result"
    }
   ],
   "source": [
    "# Add constraint: x + 2 y + 3 z <= 4\n",
    "m.addConstr(x + 2 * y + 3 * z <= 4, \"c0\")"
   ]
  },
  {
   "cell_type": "code",
   "execution_count": 14,
   "metadata": {},
   "outputs": [
    {
     "data": {
      "text/plain": [
       "<gurobi.Constr *Awaiting Model Update*>"
      ]
     },
     "execution_count": 14,
     "metadata": {},
     "output_type": "execute_result"
    }
   ],
   "source": [
    "# Add constraint: x + y >= 1\n",
    "m.addConstr(x + y >= 1, \"c1\")"
   ]
  },
  {
   "cell_type": "code",
   "execution_count": 17,
   "metadata": {},
   "outputs": [],
   "source": [
    "# Set objective\n",
    "obj = gp.LinExpr()\n",
    "obj += x\n",
    "obj += y\n",
    "obj += 2 * z\n",
    "m.setObjective(obj, GRB.MAXIMIZE)"
   ]
  },
  {
   "cell_type": "code",
   "execution_count": 19,
   "metadata": {},
   "outputs": [
    {
     "name": "stdout",
     "output_type": "stream",
     "text": [
      "Gurobi Optimizer version 12.0.1 build v12.0.1rc0 (win64 - Windows 11.0 (22631.2))\n",
      "\n",
      "CPU model: AMD Ryzen 7 5800H with Radeon Graphics, instruction set [SSE2|AVX|AVX2]\n",
      "Thread count: 8 physical cores, 16 logical processors, using up to 16 threads\n",
      "\n",
      "Optimize a model with 2 rows, 3 columns and 5 nonzeros\n",
      "Model fingerprint: 0x98886187\n",
      "Variable types: 0 continuous, 3 integer (3 binary)\n",
      "Coefficient statistics:\n",
      "  Matrix range     [1e+00, 3e+00]\n",
      "  Objective range  [1e+00, 2e+00]\n",
      "  Bounds range     [1e+00, 1e+00]\n",
      "  RHS range        [1e+00, 4e+00]\n",
      "Found heuristic solution: objective 2.0000000\n",
      "Presolve removed 2 rows and 3 columns\n",
      "Presolve time: 0.00s\n",
      "Presolve: All rows and columns removed\n",
      "\n",
      "Explored 0 nodes (0 simplex iterations) in 0.01 seconds (0.00 work units)\n",
      "Thread count was 1 (of 16 available processors)\n",
      "\n",
      "Solution count 2: 3 2 \n",
      "\n",
      "Optimal solution found (tolerance 1.00e-04)\n",
      "Best objective 3.000000000000e+00, best bound 3.000000000000e+00, gap 0.0000%\n"
     ]
    }
   ],
   "source": [
    "# Optimize model\n",
    "m.optimize()"
   ]
  },
  {
   "cell_type": "code",
   "execution_count": 20,
   "metadata": {},
   "outputs": [
    {
     "name": "stdout",
     "output_type": "stream",
     "text": [
      "x 1\n",
      "y 0\n",
      "z 1\n"
     ]
    }
   ],
   "source": [
    "for v in m.getVars():\n",
    "    print('%s %g' % (v.VarName, v.X))"
   ]
  },
  {
   "cell_type": "code",
   "execution_count": 1,
   "metadata": {},
   "outputs": [
    {
     "name": "stdout",
     "output_type": "stream",
     "text": [
      "Package              Version\n",
      "-------------------- ------------\n",
      "anyio                3.6.1\n",
      "argon2-cffi          21.3.0\n",
      "argon2-cffi-bindings 21.2.0\n",
      "asttokens            2.0.8\n",
      "async-generator      1.10\n",
      "attrs                22.1.0\n",
      "Babel                2.10.3\n",
      "backcall             0.2.0\n",
      "beautifulsoup4       4.11.1\n",
      "bleach               5.0.1\n",
      "census               0.8.19\n",
      "CensusData           1.15.post1\n",
      "certifi              2022.9.24\n",
      "cffi                 1.15.1\n",
      "charset-normalizer   2.1.1\n",
      "click                8.1.3\n",
      "click-plugins        1.1.1\n",
      "cligj                0.7.2\n",
      "colorama             0.4.5\n",
      "contourpy            1.0.5\n",
      "cycler               0.11.0\n",
      "debugpy              1.6.3\n",
      "decorator            5.1.1\n",
      "defusedxml           0.7.1\n",
      "entrypoints          0.4\n",
      "exceptiongroup       1.1.0\n",
      "executing            1.0.0\n",
      "fastjsonschema       2.16.2\n",
      "Fiona                1.8.22\n",
      "Flask                2.2.2\n",
      "fonttools            4.37.3\n",
      "geographiclib        2.0\n",
      "geopandas            0.12.1\n",
      "geopy                2.3.0\n",
      "h11                  0.14.0\n",
      "html5lib             1.1\n",
      "idna                 3.4\n",
      "ipykernel            6.15.3\n",
      "ipynb                0.5.1\n",
      "ipython              8.5.0\n",
      "ipython-genutils     0.2.0\n",
      "itsdangerous         2.1.2\n",
      "jedi                 0.18.1\n",
      "jellyfish            0.6.1\n",
      "Jinja2               3.1.2\n",
      "joblib               1.2.0\n",
      "json5                0.9.10\n",
      "jsonschema           4.16.0\n",
      "jupyter_client       7.3.5\n",
      "jupyter-core         4.11.1\n",
      "jupyter-server       1.19.1\n",
      "jupyterlab           3.4.8\n",
      "jupyterlab-pygments  0.2.2\n",
      "jupyterlab_server    2.15.2\n",
      "kiwisolver           1.4.4\n",
      "lxml                 4.9.1\n",
      "MarkupSafe           2.1.1\n",
      "matplotlib           3.6.0\n",
      "matplotlib-inline    0.1.6\n",
      "mistune              2.0.4\n",
      "munch                2.5.0\n",
      "nbclassic            0.4.4\n",
      "nbclient             0.6.8\n",
      "nbconvert            7.0.0\n",
      "nbformat             5.6.1\n",
      "nest-asyncio         1.5.5\n",
      "networkx             3.1\n",
      "nltk                 3.7\n",
      "notebook             6.4.12\n",
      "notebook-shim        0.1.0\n",
      "numpy                1.23.4\n",
      "osmnx                1.3.0\n",
      "outcome              1.2.0\n",
      "packaging            21.3\n",
      "pandas               1.5.0\n",
      "pandocfilters        1.5.0\n",
      "parso                0.8.3\n",
      "patsy                0.5.3\n",
      "pickleshare          0.7.5\n",
      "Pillow               9.2.0\n",
      "pip                  23.0.1\n",
      "plotly-geo           1.0.0\n",
      "prometheus-client    0.14.1\n",
      "prompt-toolkit       3.0.31\n",
      "psutil               5.9.2\n",
      "pure-eval            0.2.2\n",
      "pycparser            2.21\n",
      "Pygments             2.13.0\n",
      "pyparsing            3.0.9\n",
      "pyproj               3.4.0\n",
      "pyrsistent           0.18.1\n",
      "PySocks              1.7.1\n",
      "python-dateutil      2.8.2\n",
      "python-dotenv        0.21.1\n",
      "pytz                 2022.2.1\n",
      "pywin32              304\n",
      "pywinpty             2.0.8\n",
      "pyzmq                24.0.0\n",
      "regex                2022.9.13\n",
      "requests             2.28.1\n",
      "Rtree                1.0.1\n",
      "scipy                1.9.3\n",
      "seaborn              0.12.0\n",
      "selenium             4.8.0\n",
      "Send2Trash           1.8.0\n",
      "shapely              2.0.1\n",
      "six                  1.16.0\n",
      "sklearn              0.0.post1\n",
      "sniffio              1.3.0\n",
      "sortedcontainers     2.4.0\n",
      "soupsieve            2.3.2.post1\n",
      "stack-data           0.5.0\n",
      "statsmodels          0.13.5\n",
      "terminado            0.16.0\n",
      "tinycss2             1.1.1\n",
      "tomli                2.0.1\n",
      "torch                1.13.1+cu117\n",
      "torchaudio           0.13.1+cu117\n",
      "torchvision          0.14.1+cu117\n",
      "tornado              6.2\n",
      "tqdm                 4.64.1\n",
      "traitlets            5.4.0\n",
      "trio                 0.22.0\n",
      "trio-websocket       0.9.2\n",
      "typing_extensions    4.4.0\n",
      "urllib3              1.26.12\n",
      "us                   2.0.2\n",
      "wcwidth              0.2.5\n",
      "webdriver-manager    3.8.5\n",
      "webencodings         0.5.1\n",
      "websocket-client     1.4.1\n",
      "Werkzeug             2.2.2\n",
      "wsproto              1.2.0\n"
     ]
    },
    {
     "name": "stderr",
     "output_type": "stream",
     "text": [
      "\n",
      "[notice] A new release of pip is available: 23.0.1 -> 25.0.1\n",
      "[notice] To update, run: C:\\Users\\jrh25\\AppData\\Local\\Microsoft\\WindowsApps\\PythonSoftwareFoundation.Python.3.10_qbz5n2kfra8p0\\python.exe -m pip install --upgrade pip\n"
     ]
    }
   ],
   "source": [
    "!pip list"
   ]
  },
  {
   "cell_type": "code",
   "execution_count": null,
   "metadata": {},
   "outputs": [],
   "source": []
  }
 ],
 "metadata": {
  "kernelspec": {
   "display_name": "gurobi_env",
   "language": "python",
   "name": "python3"
  },
  "language_info": {
   "codemirror_mode": {
    "name": "ipython",
    "version": 3
   },
   "file_extension": ".py",
   "mimetype": "text/x-python",
   "name": "python",
   "nbconvert_exporter": "python",
   "pygments_lexer": "ipython3",
   "version": "3.10.11"
  }
 },
 "nbformat": 4,
 "nbformat_minor": 2
}
