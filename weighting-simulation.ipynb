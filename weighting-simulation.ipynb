{
 "cells": [
  {
   "cell_type": "code",
   "execution_count": 2,
   "metadata": {},
   "outputs": [],
   "source": [
    "import numpy as np\n",
    "import pandas as pd\n",
    "from scipy.stats import multivariate_normal\n",
    "import scipy.sparse as sp\t\n",
    "from statsmodels.api import Logit\n",
    "\n",
    "import gurobipy as gp\n",
    "from gurobipy import GRB"
   ]
  },
  {
   "cell_type": "markdown",
   "metadata": {},
   "source": [
    "This is an implementation of the simulation section of Yu's Balancing Weights Causal Inference in Observational Factorial Studies paper (Yu 5.1)."
   ]
  },
  {
   "cell_type": "code",
   "execution_count": 27,
   "metadata": {},
   "outputs": [],
   "source": [
    "rseed = 42\n",
    "np.random.seed(rseed)\n",
    "n = 500 # set as 500, 1000, 2000\n",
    "rho = 0 # set as 0, 0.2, 0.4 for each scenario"
   ]
  },
  {
   "cell_type": "markdown",
   "metadata": {},
   "source": [
    "Following the specification in Yu: \"the treatment assignment mechanism for $Z_{ik}$ is independent across $k$'s and satisfies a logistic regression that $P(Z_{ik} = 1) = \\frac{1}{(1+exp(-\\beta_k^T X_i))}$ where \"$\\beta_1 = (\\frac{1}{4}, \\frac{2}{4}, 0, \\frac{3}{4}, 1)$, $\\beta_2 = (\\frac{3}{4}, \\frac{1}{4}, 1, 0, \\frac{2}{4})$, $\\beta_3 = (1, 0, \\frac{3}{4}, \\frac{2}{4}, \\frac{1}{4})$.\"\n",
    "\n",
    "This treatment assignment ensures all $2^3=8$ treatment combination groups are non-empty and observed so that the paper's proposed weighting estimators are applicable. We additionally assume conditional independence of factors given covariates, and that only the main factors of the three treatments are non-negligible."
   ]
  },
  {
   "cell_type": "code",
   "execution_count": 33,
   "metadata": {},
   "outputs": [],
   "source": [
    "# Define mean vector (mu)\n",
    "mu = np.array([0.1, 0.1, 0.1, 0, 0]).T\n",
    "\n",
    "# Define covariance matrix (Sigma) with 5 covariates, defined as according to paper specifications\n",
    "#   - Diagonal filled with ones, rest with correlation coefficient rho\n",
    "Sigma = np.full((5, 5), rho)\n",
    "np.fill_diagonal(Sigma, 1)  \n",
    "\n",
    "# Generate covariates (X) from multivariate normal\n",
    "np.random.seed(rseed)\n",
    "X = multivariate_normal.rvs(mean=mu, cov=Sigma, size=n)"
   ]
  },
  {
   "cell_type": "code",
   "execution_count": 34,
   "metadata": {},
   "outputs": [],
   "source": [
    "# Define beta coefficients for treatment assignments to fulfill all treatment outcomes observed condition\n",
    "beta_1 = np.array([1/4, 2/4, 0, 3/4, 1])\n",
    "beta_2 = np.array([3/4, 1/4, 1, 0, 2/4])\n",
    "beta_3 = np.array([1, 0, 3/4, 2/4, 1/4])\n",
    "\n",
    "# Logistic function to generate treatment assignments\n",
    "def logistic_prob(X, beta):\n",
    "    return 1 / (1 + np.exp(-X @ beta))\n",
    "\n",
    "# Generate treatment assignments independently\n",
    "Z1 = np.random.binomial(1, logistic_prob(X, beta_1), size=n)\n",
    "Z2 = np.random.binomial(1, logistic_prob(X, beta_2), size=n)\n",
    "Z3 = np.random.binomial(1, logistic_prob(X, beta_3), size=n)"
   ]
  },
  {
   "cell_type": "markdown",
   "metadata": {},
   "source": [
    "For our problem setup, we next consider three outcome models, with errors following standard normal distribution.\n",
    "    \n",
    "An additive outcome: \n",
    "$Y_{i1} = 2\\sum_{k=1}^5 X_{ik} + \\sum_{j=1}^3 Z_{ij} + \\epsilon_{i1}$ \n",
    "    \n",
    "A heterogeneous treatment effect outcome: \n",
    "$Y_{i2} = 2\\sum_{k=1}^5 X_{ik} + \\sum_{k=1}^5 X_{ik} \\sum_{j=1}^3 Z_{ij} + \\epsilon_{i2}$ \n",
    "    \n",
    "A misspecified outcome:\n",
    "$Y_{i3} = sin(X_{i1}) + cos(X_{i2}) + (min(1, X_{i1}) + X_{i2})Z_{i1} + \\sum_{k=1}^5 X_{ik} \\sum_{j=2}^3 Z_{ij} + \\epsilon_{i3}$\n",
    "\n",
    "Additionally, four estimators are implemented for each main effect $\\tau_k, k=1, 2, 3$ under each outcome model:\n",
    "- The additive regression estimator\n",
    "- The interaction regression estimator\n",
    "- The weighting estimator under general additive model assumption and covariate basis functions $h_s(X) = X_s, s=1,... 5$\n",
    "- The weighting estimator with balance constraints under the outcome model specification with treatment effect heterogeneity, and the same basis functions"
   ]
  },
  {
   "cell_type": "markdown",
   "metadata": {},
   "source": [
    "https://par.nsf.gov/servlets/purl/10337012 - Regression based causal inference with factorial experiments"
   ]
  },
  {
   "cell_type": "code",
   "execution_count": null,
   "metadata": {},
   "outputs": [],
   "source": []
  }
 ],
 "metadata": {
  "kernelspec": {
   "display_name": "optimization",
   "language": "python",
   "name": "python3"
  },
  "language_info": {
   "codemirror_mode": {
    "name": "ipython",
    "version": 3
   },
   "file_extension": ".py",
   "mimetype": "text/x-python",
   "name": "python",
   "nbconvert_exporter": "python",
   "pygments_lexer": "ipython3",
   "version": "3.11.11"
  }
 },
 "nbformat": 4,
 "nbformat_minor": 2
}
